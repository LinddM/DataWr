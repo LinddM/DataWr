{
 "metadata": {
  "language_info": {
   "codemirror_mode": {
    "name": "ipython",
    "version": 3
   },
   "file_extension": ".py",
   "mimetype": "text/x-python",
   "name": "python",
   "nbconvert_exporter": "python",
   "pygments_lexer": "ipython3",
   "version": "3.7.4-final"
  },
  "orig_nbformat": 2,
  "kernelspec": {
   "name": "python_defaultSpec_1597864649071",
   "display_name": "Python 3.7.4 32-bit"
  }
 },
 "nbformat": 4,
 "nbformat_minor": 2,
 "cells": [
  {
   "cell_type": "markdown",
   "metadata": {},
   "source": [
    "## Parte 2"
   ]
  },
  {
   "cell_type": "markdown",
   "metadata": {},
   "source": [
    "Se ha cometido un delito y la policía necesita su ayuda. Un detective te dio el informe de la\n",
    "escena del crimen, pero de alguna manera lo perdiste. Recuerdas vagamente que el crimen fue\n",
    "un asesinato que ocurrió en algún momento del 15 de enero de 2018 y que tuvo lugar en SQL\n",
    "City. Empiece por recuperar el informe de la escena del crimen correspondiente de la base de\n",
    "datos del departamento de policía."
   ]
  },
  {
   "cell_type": "code",
   "execution_count": 1,
   "metadata": {},
   "outputs": [],
   "source": [
    "import sqlite3\n",
    "con = sqlite3.connect('sql-murder-mystery.db')"
   ]
  },
  {
   "cell_type": "code",
   "execution_count": 5,
   "metadata": {},
   "outputs": [],
   "source": [
    "import pandas as pd"
   ]
  },
  {
   "cell_type": "code",
   "execution_count": 19,
   "metadata": {},
   "outputs": [
    {
     "output_type": "execute_result",
     "data": {
      "text/plain": "                     name\n0      crime_scene_report\n1         drivers_license\n2                  person\n3  facebook_event_checkin\n4               interview\n5      get_fit_now_member\n6    get_fit_now_check_in\n7                  income\n8                solution",
      "text/html": "<div>\n<style scoped>\n    .dataframe tbody tr th:only-of-type {\n        vertical-align: middle;\n    }\n\n    .dataframe tbody tr th {\n        vertical-align: top;\n    }\n\n    .dataframe thead th {\n        text-align: right;\n    }\n</style>\n<table border=\"1\" class=\"dataframe\">\n  <thead>\n    <tr style=\"text-align: right;\">\n      <th></th>\n      <th>name</th>\n    </tr>\n  </thead>\n  <tbody>\n    <tr>\n      <th>0</th>\n      <td>crime_scene_report</td>\n    </tr>\n    <tr>\n      <th>1</th>\n      <td>drivers_license</td>\n    </tr>\n    <tr>\n      <th>2</th>\n      <td>person</td>\n    </tr>\n    <tr>\n      <th>3</th>\n      <td>facebook_event_checkin</td>\n    </tr>\n    <tr>\n      <th>4</th>\n      <td>interview</td>\n    </tr>\n    <tr>\n      <th>5</th>\n      <td>get_fit_now_member</td>\n    </tr>\n    <tr>\n      <th>6</th>\n      <td>get_fit_now_check_in</td>\n    </tr>\n    <tr>\n      <th>7</th>\n      <td>income</td>\n    </tr>\n    <tr>\n      <th>8</th>\n      <td>solution</td>\n    </tr>\n  </tbody>\n</table>\n</div>"
     },
     "metadata": {},
     "execution_count": 19
    }
   ],
   "source": [
    "# enlistar tablas para conocer los datos\n",
    "tables='SELECT name FROM sqlite_master WHERE type=\"table\"'\n",
    "pd.read_sql(tables, con)"
   ]
  },
  {
   "cell_type": "code",
   "execution_count": 89,
   "metadata": {},
   "outputs": [
    {
     "output_type": "execute_result",
     "data": {
      "text/plain": "                                         description\n0  Security footage shows that there were 2 witne...",
      "text/html": "<div>\n<style scoped>\n    .dataframe tbody tr th:only-of-type {\n        vertical-align: middle;\n    }\n\n    .dataframe tbody tr th {\n        vertical-align: top;\n    }\n\n    .dataframe thead th {\n        text-align: right;\n    }\n</style>\n<table border=\"1\" class=\"dataframe\">\n  <thead>\n    <tr style=\"text-align: right;\">\n      <th></th>\n      <th>description</th>\n    </tr>\n  </thead>\n  <tbody>\n    <tr>\n      <th>0</th>\n      <td>Security footage shows that there were 2 witne...</td>\n    </tr>\n  </tbody>\n</table>\n</div>"
     },
     "metadata": {},
     "execution_count": 89
    }
   ],
   "source": [
    "# buscar las pistas en los reportes de crimenes\n",
    "clues='SELECT description FROM crime_scene_report WHERE city=\"SQL City\" AND date=\"20180115\" AND type=\"murder\"'\n",
    "pd.read_sql(clues, con)\n",
    "\n",
    "# The first witness lives at the last house on \"Northwestern Dr\". The second witness, named Annabel, lives somewhere on \"Franklin Ave\""
   ]
  },
  {
   "cell_type": "code",
   "execution_count": 107,
   "metadata": {},
   "outputs": [
    {
     "output_type": "execute_result",
     "data": {
      "text/plain": "      id            name  license_id  address_number address_street_name  \\\n0  14887  Morty Schapiro      118009            4919     Northwestern Dr   \n\n         ssn  \n0  111564949  ",
      "text/html": "<div>\n<style scoped>\n    .dataframe tbody tr th:only-of-type {\n        vertical-align: middle;\n    }\n\n    .dataframe tbody tr th {\n        vertical-align: top;\n    }\n\n    .dataframe thead th {\n        text-align: right;\n    }\n</style>\n<table border=\"1\" class=\"dataframe\">\n  <thead>\n    <tr style=\"text-align: right;\">\n      <th></th>\n      <th>id</th>\n      <th>name</th>\n      <th>license_id</th>\n      <th>address_number</th>\n      <th>address_street_name</th>\n      <th>ssn</th>\n    </tr>\n  </thead>\n  <tbody>\n    <tr>\n      <th>0</th>\n      <td>14887</td>\n      <td>Morty Schapiro</td>\n      <td>118009</td>\n      <td>4919</td>\n      <td>Northwestern Dr</td>\n      <td>111564949</td>\n    </tr>\n  </tbody>\n</table>\n</div>"
     },
     "metadata": {},
     "execution_count": 107
    }
   ],
   "source": [
    "# primer testigo\n",
    "witness1='SELECT * FROM person WHERE address_street_name=\"Northwestern Dr\" ORDER BY address_number DESC LIMIT 1'\n",
    "pd.read_sql(witness1, con)"
   ]
  },
  {
   "cell_type": "code",
   "execution_count": 109,
   "metadata": {},
   "outputs": [
    {
     "output_type": "execute_result",
     "data": {
      "text/plain": "   person_id                                         transcript\n0      14887  I heard a gunshot and then saw a man run out. ...",
      "text/html": "<div>\n<style scoped>\n    .dataframe tbody tr th:only-of-type {\n        vertical-align: middle;\n    }\n\n    .dataframe tbody tr th {\n        vertical-align: top;\n    }\n\n    .dataframe thead th {\n        text-align: right;\n    }\n</style>\n<table border=\"1\" class=\"dataframe\">\n  <thead>\n    <tr style=\"text-align: right;\">\n      <th></th>\n      <th>person_id</th>\n      <th>transcript</th>\n    </tr>\n  </thead>\n  <tbody>\n    <tr>\n      <th>0</th>\n      <td>14887</td>\n      <td>I heard a gunshot and then saw a man run out. ...</td>\n    </tr>\n  </tbody>\n</table>\n</div>"
     },
     "metadata": {},
     "execution_count": 109
    }
   ],
   "source": [
    "# entrevista testigo 1\n",
    "interview1='SELECT * FROM interview WHERE person_id=14887'\n",
    "pd.read_sql(interview1, con)\n",
    "# I heard a gunshot and then saw a man run out. He had a \"Get Fit Now Gym\" bag. The membership number on the bag started with \"48Z\". Only gold members have those bags. The man got into a car with a plate that included \"H42W\"."
   ]
  },
  {
   "cell_type": "code",
   "execution_count": 140,
   "metadata": {},
   "outputs": [
    {
     "output_type": "execute_result",
     "data": {
      "text/plain": "      id  person_id           name  membership_start_date membership_status\n0  48Z7A      28819   Joe Germuska               20160305              gold\n1  48Z55      67318  Jeremy Bowers               20160101              gold",
      "text/html": "<div>\n<style scoped>\n    .dataframe tbody tr th:only-of-type {\n        vertical-align: middle;\n    }\n\n    .dataframe tbody tr th {\n        vertical-align: top;\n    }\n\n    .dataframe thead th {\n        text-align: right;\n    }\n</style>\n<table border=\"1\" class=\"dataframe\">\n  <thead>\n    <tr style=\"text-align: right;\">\n      <th></th>\n      <th>id</th>\n      <th>person_id</th>\n      <th>name</th>\n      <th>membership_start_date</th>\n      <th>membership_status</th>\n    </tr>\n  </thead>\n  <tbody>\n    <tr>\n      <th>0</th>\n      <td>48Z7A</td>\n      <td>28819</td>\n      <td>Joe Germuska</td>\n      <td>20160305</td>\n      <td>gold</td>\n    </tr>\n    <tr>\n      <th>1</th>\n      <td>48Z55</td>\n      <td>67318</td>\n      <td>Jeremy Bowers</td>\n      <td>20160101</td>\n      <td>gold</td>\n    </tr>\n  </tbody>\n</table>\n</div>"
     },
     "metadata": {},
     "execution_count": 140
    }
   ],
   "source": [
    "# personas con gold en el gym y el codigo que vio el testigo\n",
    "clue11='SELECT * FROM get_fit_now_member WHERE membership_status=\"gold\" AND id LIKE \"48Z%\"'\n",
    "pd.read_sql(clue11, con)"
   ]
  },
  {
   "cell_type": "code",
   "execution_count": 159,
   "metadata": {},
   "outputs": [
    {
     "output_type": "execute_result",
     "data": {
      "text/plain": "       id  age  height eye_color hair_color gender plate_number   car_make  \\\n0  423327   30      70     brown      brown   male       0H42W2  Chevrolet   \n1  664760   21      71     black      black   male       4H42WR     Nissan   \n\n  car_model  \n0  Spark LS  \n1    Altima  ",
      "text/html": "<div>\n<style scoped>\n    .dataframe tbody tr th:only-of-type {\n        vertical-align: middle;\n    }\n\n    .dataframe tbody tr th {\n        vertical-align: top;\n    }\n\n    .dataframe thead th {\n        text-align: right;\n    }\n</style>\n<table border=\"1\" class=\"dataframe\">\n  <thead>\n    <tr style=\"text-align: right;\">\n      <th></th>\n      <th>id</th>\n      <th>age</th>\n      <th>height</th>\n      <th>eye_color</th>\n      <th>hair_color</th>\n      <th>gender</th>\n      <th>plate_number</th>\n      <th>car_make</th>\n      <th>car_model</th>\n    </tr>\n  </thead>\n  <tbody>\n    <tr>\n      <th>0</th>\n      <td>423327</td>\n      <td>30</td>\n      <td>70</td>\n      <td>brown</td>\n      <td>brown</td>\n      <td>male</td>\n      <td>0H42W2</td>\n      <td>Chevrolet</td>\n      <td>Spark LS</td>\n    </tr>\n    <tr>\n      <th>1</th>\n      <td>664760</td>\n      <td>21</td>\n      <td>71</td>\n      <td>black</td>\n      <td>black</td>\n      <td>male</td>\n      <td>4H42WR</td>\n      <td>Nissan</td>\n      <td>Altima</td>\n    </tr>\n  </tbody>\n</table>\n</div>"
     },
     "metadata": {},
     "execution_count": 159
    }
   ],
   "source": [
    "# placa del vehiculo que vio el testigo\n",
    "clue12='SELECT * FROM drivers_license WHERE plate_number LIKE \"%H42W%\" AND gender=\"male\"'\n",
    "pd.read_sql(clue12, con)"
   ]
  },
  {
   "cell_type": "code",
   "execution_count": 105,
   "metadata": {},
   "outputs": [
    {
     "output_type": "execute_result",
     "data": {
      "text/plain": "      id            name  license_id  address_number address_street_name  \\\n0  16371  Annabel Miller      490173             103        Franklin Ave   \n\n         ssn  \n0  318771143  ",
      "text/html": "<div>\n<style scoped>\n    .dataframe tbody tr th:only-of-type {\n        vertical-align: middle;\n    }\n\n    .dataframe tbody tr th {\n        vertical-align: top;\n    }\n\n    .dataframe thead th {\n        text-align: right;\n    }\n</style>\n<table border=\"1\" class=\"dataframe\">\n  <thead>\n    <tr style=\"text-align: right;\">\n      <th></th>\n      <th>id</th>\n      <th>name</th>\n      <th>license_id</th>\n      <th>address_number</th>\n      <th>address_street_name</th>\n      <th>ssn</th>\n    </tr>\n  </thead>\n  <tbody>\n    <tr>\n      <th>0</th>\n      <td>16371</td>\n      <td>Annabel Miller</td>\n      <td>490173</td>\n      <td>103</td>\n      <td>Franklin Ave</td>\n      <td>318771143</td>\n    </tr>\n  </tbody>\n</table>\n</div>"
     },
     "metadata": {},
     "execution_count": 105
    }
   ],
   "source": [
    "# segundo testigo\n",
    "witness2='SELECT * FROM person WHERE address_street_name=\"Franklin Ave\" AND name LIKE \"%Annabel%\"'\n",
    "pd.read_sql(witness2, con)"
   ]
  },
  {
   "cell_type": "code",
   "execution_count": 103,
   "metadata": {},
   "outputs": [
    {
     "output_type": "execute_result",
     "data": {
      "text/plain": "   person_id                                         transcript\n0      16371  I saw the murder happen, and I recognized the ...",
      "text/html": "<div>\n<style scoped>\n    .dataframe tbody tr th:only-of-type {\n        vertical-align: middle;\n    }\n\n    .dataframe tbody tr th {\n        vertical-align: top;\n    }\n\n    .dataframe thead th {\n        text-align: right;\n    }\n</style>\n<table border=\"1\" class=\"dataframe\">\n  <thead>\n    <tr style=\"text-align: right;\">\n      <th></th>\n      <th>person_id</th>\n      <th>transcript</th>\n    </tr>\n  </thead>\n  <tbody>\n    <tr>\n      <th>0</th>\n      <td>16371</td>\n      <td>I saw the murder happen, and I recognized the ...</td>\n    </tr>\n  </tbody>\n</table>\n</div>"
     },
     "metadata": {},
     "execution_count": 103
    }
   ],
   "source": [
    "# entrevista testigo 2\n",
    "interview2='SELECT * FROM interview WHERE person_id=16371'\n",
    "pd.read_sql(interview2, con)\n",
    "# I saw the murder happen, and I recognized the killer from my gym when I was working out last week on January the 9th. "
   ]
  },
  {
   "cell_type": "code",
   "execution_count": 139,
   "metadata": {},
   "outputs": [
    {
     "output_type": "execute_result",
     "data": {
      "text/plain": "  membership_id  check_in_date  check_in_time  check_out_time\n0         X0643       20180109            957            1164\n1         UK1F2       20180109            344             518\n2         XTE42       20180109            486            1124\n3         1AE2H       20180109            461             944\n4         6LSTG       20180109            399             515\n5         7MWHJ       20180109            273             885\n6         GE5Q8       20180109            367             959\n7         48Z7A       20180109           1600            1730\n8         48Z55       20180109           1530            1700\n9         90081       20180109           1600            1700",
      "text/html": "<div>\n<style scoped>\n    .dataframe tbody tr th:only-of-type {\n        vertical-align: middle;\n    }\n\n    .dataframe tbody tr th {\n        vertical-align: top;\n    }\n\n    .dataframe thead th {\n        text-align: right;\n    }\n</style>\n<table border=\"1\" class=\"dataframe\">\n  <thead>\n    <tr style=\"text-align: right;\">\n      <th></th>\n      <th>membership_id</th>\n      <th>check_in_date</th>\n      <th>check_in_time</th>\n      <th>check_out_time</th>\n    </tr>\n  </thead>\n  <tbody>\n    <tr>\n      <th>0</th>\n      <td>X0643</td>\n      <td>20180109</td>\n      <td>957</td>\n      <td>1164</td>\n    </tr>\n    <tr>\n      <th>1</th>\n      <td>UK1F2</td>\n      <td>20180109</td>\n      <td>344</td>\n      <td>518</td>\n    </tr>\n    <tr>\n      <th>2</th>\n      <td>XTE42</td>\n      <td>20180109</td>\n      <td>486</td>\n      <td>1124</td>\n    </tr>\n    <tr>\n      <th>3</th>\n      <td>1AE2H</td>\n      <td>20180109</td>\n      <td>461</td>\n      <td>944</td>\n    </tr>\n    <tr>\n      <th>4</th>\n      <td>6LSTG</td>\n      <td>20180109</td>\n      <td>399</td>\n      <td>515</td>\n    </tr>\n    <tr>\n      <th>5</th>\n      <td>7MWHJ</td>\n      <td>20180109</td>\n      <td>273</td>\n      <td>885</td>\n    </tr>\n    <tr>\n      <th>6</th>\n      <td>GE5Q8</td>\n      <td>20180109</td>\n      <td>367</td>\n      <td>959</td>\n    </tr>\n    <tr>\n      <th>7</th>\n      <td>48Z7A</td>\n      <td>20180109</td>\n      <td>1600</td>\n      <td>1730</td>\n    </tr>\n    <tr>\n      <th>8</th>\n      <td>48Z55</td>\n      <td>20180109</td>\n      <td>1530</td>\n      <td>1700</td>\n    </tr>\n    <tr>\n      <th>9</th>\n      <td>90081</td>\n      <td>20180109</td>\n      <td>1600</td>\n      <td>1700</td>\n    </tr>\n  </tbody>\n</table>\n</div>"
     },
     "metadata": {},
     "execution_count": 139
    }
   ],
   "source": [
    "# personas que estuvieron en el gym el 9 de Enero\n",
    "clue2='SELECT * FROM get_fit_now_check_in WHERE check_in_date=\"20180109\" AND membership_id LIKE \"48Z%\"'\n",
    "pd.read_sql(witness2, con)"
   ]
  },
  {
   "cell_type": "markdown",
   "metadata": {},
   "source": [
    "Uniendo cabos"
   ]
  },
  {
   "cell_type": "code",
   "execution_count": 152,
   "metadata": {},
   "outputs": [
    {
     "output_type": "execute_result",
     "data": {
      "text/plain": "            name\n0   Joe Germuska\n1  Jeremy Bowers",
      "text/html": "<div>\n<style scoped>\n    .dataframe tbody tr th:only-of-type {\n        vertical-align: middle;\n    }\n\n    .dataframe tbody tr th {\n        vertical-align: top;\n    }\n\n    .dataframe thead th {\n        text-align: right;\n    }\n</style>\n<table border=\"1\" class=\"dataframe\">\n  <thead>\n    <tr style=\"text-align: right;\">\n      <th></th>\n      <th>name</th>\n    </tr>\n  </thead>\n  <tbody>\n    <tr>\n      <th>0</th>\n      <td>Joe Germuska</td>\n    </tr>\n    <tr>\n      <th>1</th>\n      <td>Jeremy Bowers</td>\n    </tr>\n  </tbody>\n</table>\n</div>"
     },
     "metadata": {},
     "execution_count": 152
    }
   ],
   "source": [
    "# personas con gold membership y que estuvieron el 9 de Enero en el gym\n",
    "clues=f'SELECT name FROM ({clue11}) AS c1 JOIN ({clue2}) AS c2 ON c1.id=c2.membership_id'\n",
    "pd.read_sql(clues, con)"
   ]
  },
  {
   "cell_type": "code",
   "execution_count": 171,
   "metadata": {},
   "outputs": [
    {
     "output_type": "execute_result",
     "data": {
      "text/plain": "       id  age  height eye_color hair_color gender plate_number   car_make  \\\n0  423327   30      70     brown      brown   male       0H42W2  Chevrolet   \n\n  car_model  license_id  \n0  Spark LS      423327  ",
      "text/html": "<div>\n<style scoped>\n    .dataframe tbody tr th:only-of-type {\n        vertical-align: middle;\n    }\n\n    .dataframe tbody tr th {\n        vertical-align: top;\n    }\n\n    .dataframe thead th {\n        text-align: right;\n    }\n</style>\n<table border=\"1\" class=\"dataframe\">\n  <thead>\n    <tr style=\"text-align: right;\">\n      <th></th>\n      <th>id</th>\n      <th>age</th>\n      <th>height</th>\n      <th>eye_color</th>\n      <th>hair_color</th>\n      <th>gender</th>\n      <th>plate_number</th>\n      <th>car_make</th>\n      <th>car_model</th>\n      <th>license_id</th>\n    </tr>\n  </thead>\n  <tbody>\n    <tr>\n      <th>0</th>\n      <td>423327</td>\n      <td>30</td>\n      <td>70</td>\n      <td>brown</td>\n      <td>brown</td>\n      <td>male</td>\n      <td>0H42W2</td>\n      <td>Chevrolet</td>\n      <td>Spark LS</td>\n      <td>423327</td>\n    </tr>\n  </tbody>\n</table>\n</div>"
     },
     "metadata": {},
     "execution_count": 171
    }
   ],
   "source": [
    "# conectando personas con las placas del carro que vio el testigo\n",
    "license_id=f'SELECT license_id FROM person AS p JOIN ({clues}) AS c ON p.name=c.name'\n",
    "car_owner=f'SELECT * FROM ({clue12}) AS p JOIN ({license_id}) AS l ON p.id=l.license_id'\n",
    "pd.read_sql(car_owner, con)"
   ]
  },
  {
   "cell_type": "code",
   "execution_count": 175,
   "metadata": {},
   "outputs": [
    {
     "output_type": "execute_result",
     "data": {
      "text/plain": "            name\n0  Jeremy Bowers",
      "text/html": "<div>\n<style scoped>\n    .dataframe tbody tr th:only-of-type {\n        vertical-align: middle;\n    }\n\n    .dataframe tbody tr th {\n        vertical-align: top;\n    }\n\n    .dataframe thead th {\n        text-align: right;\n    }\n</style>\n<table border=\"1\" class=\"dataframe\">\n  <thead>\n    <tr style=\"text-align: right;\">\n      <th></th>\n      <th>name</th>\n    </tr>\n  </thead>\n  <tbody>\n    <tr>\n      <th>0</th>\n      <td>Jeremy Bowers</td>\n    </tr>\n  </tbody>\n</table>\n</div>"
     },
     "metadata": {},
     "execution_count": 175
    }
   ],
   "source": [
    "# nombre del culpable\n",
    "guilty=f'SELECT name FROM person JOIN ({car_owner}) AS c ON person.license_id=c.license_id'\n",
    "pd.read_sql(guilty, con)"
   ]
  },
  {
   "cell_type": "code",
   "execution_count": 176,
   "metadata": {},
   "outputs": [],
   "source": [
    "culpable='Jeremy Bowers'"
   ]
  },
  {
   "cell_type": "markdown",
   "metadata": {},
   "source": [
    "Cuando encuentres el culpable, deberás de correr este código para saber si tu respuesta es\n",
    "correcta:"
   ]
  },
  {
   "cell_type": "code",
   "execution_count": 177,
   "metadata": {},
   "outputs": [
    {
     "output_type": "execute_result",
     "data": {
      "text/plain": "\"Congrats, you found the murderer! But wait, there's more... If you think you're up for a challenge, try querying the interview transcript of the murderer to find the real villian behind this crime. If you feel especially confident in your SQL skills, try to complete this final step with no more than 2 queries. Use this same INSERT statement with your new suspect to check your answer.\""
     },
     "metadata": {},
     "execution_count": 177
    }
   ],
   "source": [
    "cursor = con.cursor()\n",
    "sql = f\"INSERT INTO solution VALUES (1, '{culpable}')\"\n",
    "cursor.execute(sql)\n",
    "con.commit()\n",
    "var = pd.read_sql(\"SELECT value FROM solution\", con)\n",
    "var.iloc[0,0]"
   ]
  },
  {
   "cell_type": "code",
   "execution_count": 186,
   "metadata": {},
   "outputs": [
    {
     "output_type": "execute_result",
     "data": {
      "text/plain": "   person_id                                         transcript\n0      67318  I was hired by a woman with a lot of money. I ...",
      "text/html": "<div>\n<style scoped>\n    .dataframe tbody tr th:only-of-type {\n        vertical-align: middle;\n    }\n\n    .dataframe tbody tr th {\n        vertical-align: top;\n    }\n\n    .dataframe thead th {\n        text-align: right;\n    }\n</style>\n<table border=\"1\" class=\"dataframe\">\n  <thead>\n    <tr style=\"text-align: right;\">\n      <th></th>\n      <th>person_id</th>\n      <th>transcript</th>\n    </tr>\n  </thead>\n  <tbody>\n    <tr>\n      <th>0</th>\n      <td>67318</td>\n      <td>I was hired by a woman with a lot of money. I ...</td>\n    </tr>\n  </tbody>\n</table>\n</div>"
     },
     "metadata": {},
     "execution_count": 186
    }
   ],
   "source": [
    "# entrevista culpable\n",
    "guilty_id=f'SELECT id FROM person WHERE name=\"{culpable}\"'\n",
    "interview_guilty='SELECT * FROM interview WHERE person_id=\"67318\"'\n",
    "pd.read_sql(interview_guilty, con)\n",
    "# I was hired by a woman with a lot of money. I don't know her name but I know she's around 5'5\" (65\") or 5'7\" (67\"). She has red hair and she drives a Tesla Model S. I know that she attended the SQL Symphony Concert 3 times in December 2017."
   ]
  },
  {
   "cell_type": "code",
   "execution_count": 237,
   "metadata": {},
   "outputs": [
    {
     "output_type": "execute_result",
     "data": {
      "text/plain": "      id              name\n0  78881          Red Korb\n1  90700     Regina George\n2  99716  Miranda Priestly",
      "text/html": "<div>\n<style scoped>\n    .dataframe tbody tr th:only-of-type {\n        vertical-align: middle;\n    }\n\n    .dataframe tbody tr th {\n        vertical-align: top;\n    }\n\n    .dataframe thead th {\n        text-align: right;\n    }\n</style>\n<table border=\"1\" class=\"dataframe\">\n  <thead>\n    <tr style=\"text-align: right;\">\n      <th></th>\n      <th>id</th>\n      <th>name</th>\n    </tr>\n  </thead>\n  <tbody>\n    <tr>\n      <th>0</th>\n      <td>78881</td>\n      <td>Red Korb</td>\n    </tr>\n    <tr>\n      <th>1</th>\n      <td>90700</td>\n      <td>Regina George</td>\n    </tr>\n    <tr>\n      <th>2</th>\n      <td>99716</td>\n      <td>Miranda Priestly</td>\n    </tr>\n  </tbody>\n</table>\n</div>"
     },
     "metadata": {},
     "execution_count": 237
    }
   ],
   "source": [
    "# datos fisicos de la persona\n",
    "people_suspect='SELECT id as lic_id FROM drivers_license WHERE hair_color=\"red\" AND height<68 AND height>64 AND car_make=\"Tesla\"  AND car_model=\"Model S\"'\n",
    "credentials=f'SELECT id, name FROM person JOIN ({people_suspect}) AS s WHERE person.license_id=s.lic_id'\n",
    "pd.read_sql(credentials, con)"
   ]
  },
  {
   "cell_type": "code",
   "execution_count": 243,
   "metadata": {},
   "outputs": [
    {
     "output_type": "execute_result",
     "data": {
      "text/plain": "   person_id  att_times\n0      24556          3\n1      99716          3",
      "text/html": "<div>\n<style scoped>\n    .dataframe tbody tr th:only-of-type {\n        vertical-align: middle;\n    }\n\n    .dataframe tbody tr th {\n        vertical-align: top;\n    }\n\n    .dataframe thead th {\n        text-align: right;\n    }\n</style>\n<table border=\"1\" class=\"dataframe\">\n  <thead>\n    <tr style=\"text-align: right;\">\n      <th></th>\n      <th>person_id</th>\n      <th>att_times</th>\n    </tr>\n  </thead>\n  <tbody>\n    <tr>\n      <th>0</th>\n      <td>24556</td>\n      <td>3</td>\n    </tr>\n    <tr>\n      <th>1</th>\n      <td>99716</td>\n      <td>3</td>\n    </tr>\n  </tbody>\n</table>\n</div>"
     },
     "metadata": {},
     "execution_count": 243
    }
   ],
   "source": [
    "# concierto al que fue\n",
    "concert='SELECT COUNT(*) AS att_times, person_id FROM facebook_event_checkin WHERE event_name=\"SQL Symphony Concert\" AND date LIKE \"201712%\" GROUP BY person_id'\n",
    "concert3=f'SELECT person_id, att_times FROM ({concert}) WHERE att_times=3'\n",
    "pd.read_sql(concert3, con)"
   ]
  },
  {
   "cell_type": "code",
   "execution_count": 239,
   "metadata": {},
   "outputs": [
    {
     "output_type": "execute_result",
     "data": {
      "text/plain": "               name\n0  Miranda Priestly",
      "text/html": "<div>\n<style scoped>\n    .dataframe tbody tr th:only-of-type {\n        vertical-align: middle;\n    }\n\n    .dataframe tbody tr th {\n        vertical-align: top;\n    }\n\n    .dataframe thead th {\n        text-align: right;\n    }\n</style>\n<table border=\"1\" class=\"dataframe\">\n  <thead>\n    <tr style=\"text-align: right;\">\n      <th></th>\n      <th>name</th>\n    </tr>\n  </thead>\n  <tbody>\n    <tr>\n      <th>0</th>\n      <td>Miranda Priestly</td>\n    </tr>\n  </tbody>\n</table>\n</div>"
     },
     "metadata": {},
     "execution_count": 239
    }
   ],
   "source": [
    "# nombre del culpable real\n",
    "real_guilty=f'SELECT name FROM ({credentials}) as c JOIN ({concert3}) AS c3 ON c.id=c3.person_id'\n",
    "pd.read_sql(real_guilty, con)"
   ]
  },
  {
   "cell_type": "code",
   "execution_count": 240,
   "metadata": {},
   "outputs": [],
   "source": [
    "culpable_real='Miranda Priestly'"
   ]
  },
  {
   "cell_type": "code",
   "execution_count": 241,
   "metadata": {},
   "outputs": [
    {
     "output_type": "execute_result",
     "data": {
      "text/plain": "'Congrats, you found the brains behind the murder! Everyone in SQL City hails you as the greatest SQL detective of all time. Time to break out the champagne!'"
     },
     "metadata": {},
     "execution_count": 241
    }
   ],
   "source": [
    "cursor = con.cursor()\n",
    "sql = f\"INSERT INTO solution VALUES (1, '{culpable_real}')\"\n",
    "cursor.execute(sql)\n",
    "con.commit()\n",
    "var = pd.read_sql(\"SELECT value FROM solution\", con)\n",
    "var.iloc[0,0]"
   ]
  }
 ]
}