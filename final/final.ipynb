{
 "metadata": {
  "language_info": {
   "codemirror_mode": {
    "name": "ipython",
    "version": 3
   },
   "file_extension": ".py",
   "mimetype": "text/x-python",
   "name": "python",
   "nbconvert_exporter": "python",
   "pygments_lexer": "ipython3",
   "version": 3
  },
  "orig_nbformat": 2
 },
 "nbformat": 4,
 "nbformat_minor": 2,
 "cells": [
  {
   "source": [
    "# Examen Final Data Wrangling 2020"
   ],
   "cell_type": "markdown",
   "metadata": {}
  },
  {
   "source": [
    "1\\. ¿Qué es una expresión regular? (5 pts)"
   ],
   "cell_type": "markdown",
   "metadata": {}
  },
  {
   "source": [
    "2\\. Enumere y explique brevemente cuatro aplicaciones prácticas en las cuales las expresiones regulares son utilizadas. (5 pts)"
   ],
   "cell_type": "markdown",
   "metadata": {}
  },
  {
   "source": [
    "3\\.\tExplique brevemente las 3 condiciones que establecen que una tabla se encuentra en formato tidy. (5 pts)"
   ],
   "cell_type": "markdown",
   "metadata": {}
  },
  {
   "source": [
    "4\\. Diagnostique y explique por qué la siguiente tabla no está en formato tidy. Luego, explique cómo convertirla a formato tidy. (7 pts)"
   ],
   "cell_type": "markdown",
   "metadata": {}
  },
  {
   "source": [
    "<img src=\"tabla1.jpg\">"
   ],
   "cell_type": "markdown",
   "metadata": {}
  },
  {
   "source": [
    "5\\.\tDiagnostique y explique por qué la siguiente tabla no está en formato tidy. Luego, explique cómo convertirla a formato tidy. (7 pts)"
   ],
   "cell_type": "markdown",
   "metadata": {}
  },
  {
   "source": [
    "<img src=\"tabla2.jpg\">"
   ],
   "cell_type": "markdown",
   "metadata": {}
  },
  {
   "source": [
    "6\\. Diagnostique y explique por qué la siguiente tabla no está en formato tidy. Luego, explique cómo convertirla a formato tidy. (7 pts)"
   ],
   "cell_type": "markdown",
   "metadata": {}
  },
  {
   "source": [
    "<img src=\"tabla3.jpg\">"
   ],
   "cell_type": "markdown",
   "metadata": {}
  },
  {
   "source": [
    "7\\.\tSobre lubridate: Explique la diferencia entre las funciones period y las funciones duration. (5 pts)"
   ],
   "cell_type": "markdown",
   "metadata": {}
  },
  {
   "source": [
    "8\\.\t¿En qué contexto utilizaría una función period y en cúal utilizaría una función duration? (5 pts)"
   ],
   "cell_type": "markdown",
   "metadata": {}
  },
  {
   "source": [
    "9\\.\tExplique el concepto de data Missing Completely at Random (MCAR). (6 pts)"
   ],
   "cell_type": "markdown",
   "metadata": {}
  },
  {
   "source": [
    "10\\. Si logramos verificar que la data faltante es MCAR, ¿cuál imputación recomendaría utilizar? (5 pts)"
   ],
   "cell_type": "markdown",
   "metadata": {}
  },
  {
   "source": [
    "11\\. Si estamos realizando el análisis de una encuesta en la cual tenemos información sobre 150 individuos y tenemos valores faltantes en diferentes variables de nuestra tabla, ¿cúal de los siguientes métodos utilizaría y por qué? (6 pts)\n",
    "\n",
    "a.\tlistwise deletion.\n",
    "\n",
    "b.\tpairwise deletion.\n",
    "\n",
    "c.\toutliers cap via standard deviation.\n",
    "\n",
    "d.\toutliers cap via percentile approach.\n"
   ],
   "cell_type": "markdown",
   "metadata": {}
  },
  {
   "source": [
    "12\\. Usted se encuentra realizando un modelo sobre la capacidad necesaria que necesita para atender la demanda de transporte de un producto determinado. Se requiere que cumpla con el 90% de la demanda mensual. ¿Cúal de los siguientes métodos utilizaría para determinar con qué población de sus datos trabajar? (6 pts)\n",
    "\n",
    "a.\tlistwise deletion.\n",
    "\n",
    "b.\tpairwise deletion.\n",
    "\n",
    "c.\toutliers cap via standard deviation.\n",
    "\n",
    "d.\toutliers cap via percentile approach.\n",
    "\n",
    "e.\tmin-max scaling.\n"
   ],
   "cell_type": "markdown",
   "metadata": {}
  },
  {
   "source": [
    "13\\. ¿En qué contexto de Machine Learning se recomienda utilizar Min Max Scaling? (6 pts)"
   ],
   "cell_type": "markdown",
   "metadata": {}
  },
  {
   "source": [
    "14\\. Si encuentra que la distribución de sus datos tiene un comportamiento exponencial, ¿cúal técnica de normalización utilizaría para transformar los datos a una distribución normal? (5 pts)"
   ],
   "cell_type": "markdown",
   "metadata": {}
  },
  {
   "source": [
    "15\\. Si se tiene una variable categórica con tres niveles, cúantas variables dummy necesita para poder pasar la data a un modelo econométrico o de machine learning? (5 pts)"
   ],
   "cell_type": "markdown",
   "metadata": {}
  },
  {
   "source": [
    "16\\. ¿En cuál contexto utilizamos one hot encoding? (5 pts)"
   ],
   "cell_type": "markdown",
   "metadata": {}
  },
  {
   "source": [
    "17\\. ¿Qué es un n-gram? (5 pts)"
   ],
   "cell_type": "markdown",
   "metadata": {}
  },
  {
   "source": [
    "18\\. Si quiero obtener como resultado las filas de la tabla A que no se encuentran en la tabla B, ¿cómo debería de completar la siguiente sentencia de SQL?    (5 pts)\n",
    "\n",
    "<i> SELECT * FROM A ___ JOIN B ON A.KEY = B.KEY ________________ </i>"
   ],
   "cell_type": "markdown",
   "metadata": {}
  }
 ]
}