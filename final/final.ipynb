{
 "metadata": {
  "language_info": {
   "codemirror_mode": {
    "name": "ipython",
    "version": 3
   },
   "file_extension": ".py",
   "mimetype": "text/x-python",
   "name": "python",
   "nbconvert_exporter": "python",
   "pygments_lexer": "ipython3",
   "version": 3
  },
  "orig_nbformat": 2
 },
 "nbformat": 4,
 "nbformat_minor": 2,
 "cells": [
  {
   "source": [
    "# Examen Final Data Wrangling 2020"
   ],
   "cell_type": "markdown",
   "metadata": {}
  },
  {
   "source": [
    "1\\. ¿Qué es una expresión regular? (5 pts)"
   ],
   "cell_type": "markdown",
   "metadata": {}
  },
  {
   "source": [
    "Es una cadena de texto que permite crear patrones para hacer coincidir, localizar y administrar el texto. El patrón puede constar de varios caracteres, operadores o construcciones. Existen diversas abreviaturas para redactar el patrón deseado a seguir"
   ],
   "cell_type": "markdown",
   "metadata": {}
  },
  {
   "source": [
    "2\\. Enumere y explique brevemente cuatro aplicaciones prácticas en las cuales las expresiones regulares son utilizadas. (5 pts)"
   ],
   "cell_type": "markdown",
   "metadata": {}
  },
  {
   "source": [
    "a. Contraseñas\n",
    "\n",
    "b. Correos electrónicos\n",
    "\n",
    "c. Dominios de aplicaciones web\n",
    "\n",
    "d. Números (o códigos) de carnet "
   ],
   "cell_type": "markdown",
   "metadata": {}
  },
  {
   "source": [
    "3\\.\tExplique brevemente las 3 condiciones que establecen que una tabla se encuentra en formato tidy. (5 pts)"
   ],
   "cell_type": "markdown",
   "metadata": {}
  },
  {
   "source": [
    "a. Cada variable es una columna\n",
    "\n",
    "b. Cada observación es una fila\n",
    "\n",
    "c. Cada tabla se compone de una unidad observacional"
   ],
   "cell_type": "markdown",
   "metadata": {}
  },
  {
   "source": [
    "4\\. Diagnostique y explique por qué la siguiente tabla no está en formato tidy. Luego, explique cómo convertirla a formato tidy. (7 pts)"
   ],
   "cell_type": "markdown",
   "metadata": {}
  },
  {
   "source": [
    "<img src=\"tabla1.jpg\">"
   ],
   "cell_type": "markdown",
   "metadata": {}
  },
  {
   "source": [
    "No está en formato tidy porque las columnas describen observaciones en vez de variables. Lo ideal en este caso sería mantener la columna **Country** y agregar otras dos columnas: una llamada **Año** y la otra algo similar a **Frecuencia**"
   ],
   "cell_type": "markdown",
   "metadata": {}
  },
  {
   "source": [
    "5\\.\tDiagnostique y explique por qué la siguiente tabla no está en formato tidy. Luego, explique cómo convertirla a formato tidy. (7 pts)"
   ],
   "cell_type": "markdown",
   "metadata": {}
  },
  {
   "source": [
    "<img src=\"tabla2.jpg\">"
   ],
   "cell_type": "markdown",
   "metadata": {}
  },
  {
   "source": [
    "No se encuentra en formato tidy porque la columna jugador está describiendo dos campos en vez de uno solo. Para esta ocasión lo mejor es separar los dos datos que se describen en la columna **Jugadores**, dejando en esa solamente los nombres de los jugadores y agregar otra llamada **Posición**"
   ],
   "cell_type": "markdown",
   "metadata": {}
  },
  {
   "source": [
    "6\\. Diagnostique y explique por qué la siguiente tabla no está en formato tidy. Luego, explique cómo convertirla a formato tidy. (7 pts)"
   ],
   "cell_type": "markdown",
   "metadata": {}
  },
  {
   "source": [
    "<img src=\"tabla3.jpg\">"
   ],
   "cell_type": "markdown",
   "metadata": {}
  },
  {
   "source": [
    "No está en formato tidy porque varias columnas describen observaciones en vez de variables. También podemos incluir el caso en el que la columa **Producto** no describe solamente lo que es el producto. Para el primer problema debe incluirse una columa llamada **Locación** o algo así y sus observaciones pueden ser <i>Urbano</i> o  <i>Rural<i/>. También se incluiría otra columna con el nombre **Rando de precio** en la que sus observaciones son los rangos de precio descritos erróneamente como columnas. \n",
    "Por último, se podría agregar una columa adicional con el nombre **Porción** o algo similar en la que se describe el tamaño/unidades/peso del producto en cuestión"
   ],
   "cell_type": "markdown",
   "metadata": {}
  },
  {
   "source": [
    "7\\.\tSobre lubridate: Explique la diferencia entre las funciones period y las funciones duration. (5 pts)"
   ],
   "cell_type": "markdown",
   "metadata": {}
  },
  {
   "source": [
    "* Period: Crea o analiza un objeto de período con los valores especificados. Las unidades de tiempo no tienen una duración fija (excepto los segundos) hasta que se agregan a una fecha y hora. Estos rastrean el cambio en la \"hora del reloj\" entre dos fechas y horas. Se miden en unidades comunes relacionadas con el tiempo: años, meses, días, horas, minutos y segundos. Cada unidad, excepto los segundos, debe expresarse en valores enteros.\n",
    "La aritmética con esta función puede dar como resultado un comportamiento indefinido cuando se trata de fechas inexistentes (como el 29 de febrero en años no bisiestos)\n",
    "\n",
    "* Duration: Crea un objeto de duración con los valores especificados. Las entradas para diferentes unidades son acumulativas. Las duraciones se muestran como el número de segundos en un intervalo de tiempo.\n",
    "Esta función registra el número exacto de segundos en un intervalo de tiempo. Miden el paso exacto del tiempo, pero no siempre se alinean con las mediciones realizadas en unidades de tiempo más grandes, como horas, meses y años. Esto se debe a que la duración de las unidades de tiempo más grandes puede verse afectada por convenciones como los años bisiestos y el horario de verano."
   ],
   "cell_type": "markdown",
   "metadata": {}
  },
  {
   "source": [
    "8\\.\t¿En qué contexto utilizaría una función period y en cúal utilizaría una función duration? (5 pts)"
   ],
   "cell_type": "markdown",
   "metadata": {}
  },
  {
   "source": [
    "Utilizaría una función period cuando no es de interés primordial el mantener las fechas reales. Generalemente sería más que todo para tomar períodos de tiempo que no involucren fechas como tal\n",
    "\n",
    "Utilizaría una función duration cuando es de extremo interés mantener las fechas lo más real posible, por ejemplo en un dashboard que muestra un calendario o algo así"
   ],
   "cell_type": "markdown",
   "metadata": {}
  },
  {
   "source": [
    "9\\.\tExplique el concepto de data Missing Completely at Random (MCAR). (6 pts)"
   ],
   "cell_type": "markdown",
   "metadata": {}
  },
  {
   "source": [
    "La probabilidad a que falte un punto u observación de datos es completamente aleatoria; No hay relación entre si falta un punto de datos y cualquier valor en el conjunto de datos, perdido u observado.\n",
    "\n",
    "Los datos que faltan son solo un subconjunto aleatorio de los datos"
   ],
   "cell_type": "markdown",
   "metadata": {}
  },
  {
   "source": [
    "10\\. Si logramos verificar que la data faltante es MCAR, ¿cuál imputación recomendaría utilizar? (5 pts)"
   ],
   "cell_type": "markdown",
   "metadata": {}
  },
  {
   "source": [
    "Listwise deletion porque:\n",
    "\n",
    "* Los datos no están completamente disponibles\n",
    "* Hay sesgo en la muestra o\n",
    "* Existen suficientes datos\n",
    "* Falta de características clave de observación\n",
    "Es muy fácil de implementar pero da una pérdida de observaciones"
   ],
   "cell_type": "markdown",
   "metadata": {}
  },
  {
   "source": [
    "11\\. Si estamos realizando el análisis de una encuesta en la cual tenemos información sobre 150 individuos y tenemos valores faltantes en diferentes variables de nuestra tabla, ¿cúal de los siguientes métodos utilizaría y por qué? (6 pts)\n",
    "\n",
    "a.\t**listwise deletion.** <--\n",
    "\n",
    "b.\tpairwise deletion.\n",
    "\n",
    "c.\toutliers cap via standard deviation.\n",
    "\n",
    "d.\toutliers cap via percentile approach.\n",
    "\n",
    "Lo utilizaría porque relativamente se tiene bastante información, puede que haya sesgos en la muestra o los resultados. No es de interés primordial el identificar outliers"
   ],
   "cell_type": "markdown",
   "metadata": {}
  },
  {
   "source": [
    "12\\. Usted se encuentra realizando un modelo sobre la capacidad necesaria que necesita para atender la demanda de transporte de un producto determinado. Se requiere que cumpla con el 90% de la demanda mensual. ¿Cúal de los siguientes métodos utilizaría para determinar con qué población de sus datos trabajar? (6 pts)\n",
    "\n",
    "a.\tlistwise deletion.\n",
    "\n",
    "b.\tpairwise deletion.\n",
    "\n",
    "c.\toutliers cap via standard deviation.\n",
    "\n",
    "d.\toutliers cap via percentile approach.\n",
    "\n",
    "e.\t**min-max scaling.** <--\n"
   ],
   "cell_type": "markdown",
   "metadata": {}
  },
  {
   "source": [
    "13\\. ¿En qué contexto de Machine Learning se recomienda utilizar Min Max Scaling? (6 pts)"
   ],
   "cell_type": "markdown",
   "metadata": {}
  },
  {
   "source": [
    "Se utiliza para normalizar el rango de variables independientes o características de los datos. Es el método más simple y consiste en reescalar el rango de características. La selección del rango objetivo depende de la naturaleza de los datos. "
   ],
   "cell_type": "markdown",
   "metadata": {}
  },
  {
   "source": [
    "14\\. Si encuentra que la distribución de sus datos tiene un comportamiento exponencial, ¿cúal técnica de normalización utilizaría para transformar los datos a una distribución normal? (5 pts)"
   ],
   "cell_type": "markdown",
   "metadata": {}
  },
  {
   "source": [
    "Una transformación logarítimica"
   ],
   "cell_type": "markdown",
   "metadata": {}
  },
  {
   "source": [
    "15\\. Si se tiene una variable categórica con tres niveles, cúantas variables dummy necesita para poder pasar la data a un modelo econométrico o de machine learning? (5 pts)"
   ],
   "cell_type": "markdown",
   "metadata": {}
  },
  {
   "source": [
    "Tres variables dummy"
   ],
   "cell_type": "markdown",
   "metadata": {}
  },
  {
   "source": [
    "16\\. ¿En cuál contexto utilizamos one hot encoding? (5 pts)"
   ],
   "cell_type": "markdown",
   "metadata": {}
  },
  {
   "source": [
    "One hot encoding se utiliza para transformar una variable categórica en tantos binarios vectores como categorías (niveles)\n",
    "\n",
    "* Ajusta modelos con variables ficticias, lo que permite asumir un ordenamiento natural entre categorías\n",
    "* Darle a una computadora variables categóricas es hablar en forma idioma diferente que la máquina no comprende\n",
    "\n",
    "Esto es necesario para no darle pesos a las variables y es muy utilizado para hacer regresiones múltiples, por ejemplo"
   ],
   "cell_type": "markdown",
   "metadata": {}
  },
  {
   "source": [
    "17\\. ¿Qué es un n-gram? (5 pts)"
   ],
   "cell_type": "markdown",
   "metadata": {}
  },
  {
   "source": [
    "La \"n\" en n-gramas representa un número. Una búsqueda de n gramos encontrará todas las secuencias contiguas de n elementos en\n",
    "un texto. Esto es muy utilizado en análisis de lenguaje"
   ],
   "cell_type": "markdown",
   "metadata": {}
  },
  {
   "source": [
    "18\\. Si quiero obtener como resultado las filas de la tabla A que no se encuentran en la tabla B, ¿cómo debería de completar la siguiente sentencia de SQL?    (5 pts)\n",
    "\n",
    "<i> SELECT * FROM A </i> LEFT <i>JOIN B ON A.KEY = B.KEY </i> WHERW A!=B"
   ],
   "cell_type": "markdown",
   "metadata": {}
  }
 ]
}