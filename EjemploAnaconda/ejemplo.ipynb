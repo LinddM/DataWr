{
 "metadata": {
  "language_info": {
   "codemirror_mode": {
    "name": "ipython",
    "version": 3
   },
   "file_extension": ".py",
   "mimetype": "text/x-python",
   "name": "python",
   "nbconvert_exporter": "python",
   "pygments_lexer": "ipython3",
   "version": "3.7.4-final"
  },
  "orig_nbformat": 2,
  "kernelspec": {
   "name": "python_defaultSpec_1597089155023",
   "display_name": "Python 3.7.4 32-bit"
  }
 },
 "nbformat": 4,
 "nbformat_minor": 2,
 "cells": [
  {
   "cell_type": "code",
   "execution_count": 4,
   "metadata": {},
   "outputs": [],
   "source": [
    "import numpy as np\n",
    "import pandas as pd\n",
    "heroes = pd.read_csv('heroes_information.csv')"
   ]
  },
  {
   "cell_type": "code",
   "execution_count": 5,
   "metadata": {},
   "outputs": [],
   "source": [
    "from pandasql import *"
   ]
  },
  {
   "cell_type": "code",
   "execution_count": 6,
   "metadata": {},
   "outputs": [],
   "source": [
    "pysqldf = lambda q: sqldf(q, globals())"
   ]
  },
  {
   "cell_type": "code",
   "execution_count": 7,
   "metadata": {},
   "outputs": [],
   "source": [
    "query2 = \"SELECT * FROM heroes limit 10\""
   ]
  },
  {
   "cell_type": "code",
   "execution_count": 8,
   "metadata": {},
   "outputs": [
    {
     "output_type": "execute_result",
     "data": {
      "text/plain": "   Unnamed: 0           name  Gender Eye color               Race Hair color  \\\n0           0         A-Bomb    Male    yellow              Human    No Hair   \n1           1     Abe Sapien    Male      blue      Icthyo Sapien    No Hair   \n2           2       Abin Sur    Male      blue            Ungaran    No Hair   \n3           3    Abomination    Male     green  Human / Radiation    No Hair   \n4           4        Abraxas    Male      blue      Cosmic Entity      Black   \n5           5  Absorbing Man    Male      blue              Human    No Hair   \n6           6    Adam Monroe    Male      blue                  -      Blond   \n7           7   Adam Strange    Male      blue              Human      Blond   \n8           8       Agent 13  Female      blue                  -      Blond   \n9           9      Agent Bob    Male     brown              Human      Brown   \n\n   Height          Publisher Skin color Alignment  Weight  \n0   203.0      Marvel Comics          -      good   441.0  \n1   191.0  Dark Horse Comics       blue      good    65.0  \n2   185.0          DC Comics        red      good    90.0  \n3   203.0      Marvel Comics          -       bad   441.0  \n4   -99.0      Marvel Comics          -       bad   -99.0  \n5   193.0      Marvel Comics          -       bad   122.0  \n6   -99.0       NBC - Heroes          -      good   -99.0  \n7   185.0          DC Comics          -      good    88.0  \n8   173.0      Marvel Comics          -      good    61.0  \n9   178.0      Marvel Comics          -      good    81.0  ",
      "text/html": "<div>\n<style scoped>\n    .dataframe tbody tr th:only-of-type {\n        vertical-align: middle;\n    }\n\n    .dataframe tbody tr th {\n        vertical-align: top;\n    }\n\n    .dataframe thead th {\n        text-align: right;\n    }\n</style>\n<table border=\"1\" class=\"dataframe\">\n  <thead>\n    <tr style=\"text-align: right;\">\n      <th></th>\n      <th>Unnamed: 0</th>\n      <th>name</th>\n      <th>Gender</th>\n      <th>Eye color</th>\n      <th>Race</th>\n      <th>Hair color</th>\n      <th>Height</th>\n      <th>Publisher</th>\n      <th>Skin color</th>\n      <th>Alignment</th>\n      <th>Weight</th>\n    </tr>\n  </thead>\n  <tbody>\n    <tr>\n      <th>0</th>\n      <td>0</td>\n      <td>A-Bomb</td>\n      <td>Male</td>\n      <td>yellow</td>\n      <td>Human</td>\n      <td>No Hair</td>\n      <td>203.0</td>\n      <td>Marvel Comics</td>\n      <td>-</td>\n      <td>good</td>\n      <td>441.0</td>\n    </tr>\n    <tr>\n      <th>1</th>\n      <td>1</td>\n      <td>Abe Sapien</td>\n      <td>Male</td>\n      <td>blue</td>\n      <td>Icthyo Sapien</td>\n      <td>No Hair</td>\n      <td>191.0</td>\n      <td>Dark Horse Comics</td>\n      <td>blue</td>\n      <td>good</td>\n      <td>65.0</td>\n    </tr>\n    <tr>\n      <th>2</th>\n      <td>2</td>\n      <td>Abin Sur</td>\n      <td>Male</td>\n      <td>blue</td>\n      <td>Ungaran</td>\n      <td>No Hair</td>\n      <td>185.0</td>\n      <td>DC Comics</td>\n      <td>red</td>\n      <td>good</td>\n      <td>90.0</td>\n    </tr>\n    <tr>\n      <th>3</th>\n      <td>3</td>\n      <td>Abomination</td>\n      <td>Male</td>\n      <td>green</td>\n      <td>Human / Radiation</td>\n      <td>No Hair</td>\n      <td>203.0</td>\n      <td>Marvel Comics</td>\n      <td>-</td>\n      <td>bad</td>\n      <td>441.0</td>\n    </tr>\n    <tr>\n      <th>4</th>\n      <td>4</td>\n      <td>Abraxas</td>\n      <td>Male</td>\n      <td>blue</td>\n      <td>Cosmic Entity</td>\n      <td>Black</td>\n      <td>-99.0</td>\n      <td>Marvel Comics</td>\n      <td>-</td>\n      <td>bad</td>\n      <td>-99.0</td>\n    </tr>\n    <tr>\n      <th>5</th>\n      <td>5</td>\n      <td>Absorbing Man</td>\n      <td>Male</td>\n      <td>blue</td>\n      <td>Human</td>\n      <td>No Hair</td>\n      <td>193.0</td>\n      <td>Marvel Comics</td>\n      <td>-</td>\n      <td>bad</td>\n      <td>122.0</td>\n    </tr>\n    <tr>\n      <th>6</th>\n      <td>6</td>\n      <td>Adam Monroe</td>\n      <td>Male</td>\n      <td>blue</td>\n      <td>-</td>\n      <td>Blond</td>\n      <td>-99.0</td>\n      <td>NBC - Heroes</td>\n      <td>-</td>\n      <td>good</td>\n      <td>-99.0</td>\n    </tr>\n    <tr>\n      <th>7</th>\n      <td>7</td>\n      <td>Adam Strange</td>\n      <td>Male</td>\n      <td>blue</td>\n      <td>Human</td>\n      <td>Blond</td>\n      <td>185.0</td>\n      <td>DC Comics</td>\n      <td>-</td>\n      <td>good</td>\n      <td>88.0</td>\n    </tr>\n    <tr>\n      <th>8</th>\n      <td>8</td>\n      <td>Agent 13</td>\n      <td>Female</td>\n      <td>blue</td>\n      <td>-</td>\n      <td>Blond</td>\n      <td>173.0</td>\n      <td>Marvel Comics</td>\n      <td>-</td>\n      <td>good</td>\n      <td>61.0</td>\n    </tr>\n    <tr>\n      <th>9</th>\n      <td>9</td>\n      <td>Agent Bob</td>\n      <td>Male</td>\n      <td>brown</td>\n      <td>Human</td>\n      <td>Brown</td>\n      <td>178.0</td>\n      <td>Marvel Comics</td>\n      <td>-</td>\n      <td>good</td>\n      <td>81.0</td>\n    </tr>\n  </tbody>\n</table>\n</div>"
     },
     "metadata": {},
     "execution_count": 8
    }
   ],
   "source": [
    "pysqldf(query2)"
   ]
  },
  {
   "cell_type": "code",
   "execution_count": null,
   "metadata": {},
   "outputs": [],
   "source": []
  }
 ]
}