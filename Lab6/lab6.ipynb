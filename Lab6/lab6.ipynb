{
 "metadata": {
  "language_info": {
   "codemirror_mode": {
    "name": "ipython",
    "version": 3
   },
   "file_extension": ".py",
   "mimetype": "text/x-python",
   "name": "python",
   "nbconvert_exporter": "python",
   "pygments_lexer": "ipython3",
   "version": "3.7.4-final"
  },
  "orig_nbformat": 2,
  "kernelspec": {
   "name": "Python 3.7.4 32-bit",
   "display_name": "Python 3.7.4 32-bit",
   "metadata": {
    "interpreter": {
     "hash": "e19baa2976aee3dcea8c081ce108ace50920956ee920dcc807285a22651548bf"
    }
   }
  }
 },
 "nbformat": 4,
 "nbformat_minor": 2,
 "cells": [
  {
   "source": [
    "# Laboratorio #6: Regex"
   ],
   "cell_type": "markdown",
   "metadata": {}
  },
  {
   "source": [
    "\n",
    "### Preguntas"
   ],
   "cell_type": "markdown",
   "metadata": {}
  },
  {
   "cell_type": "code",
   "execution_count": 36,
   "metadata": {},
   "outputs": [],
   "source": [
    "import numpy as np\n",
    "import pandas as pd\n",
    "import re"
   ]
  },
  {
   "source": [
    "1. Genere una expresión regular que sea capaz de detectar las placas de un\n",
    "vehículo particular guatemalteco.\n"
   ],
   "cell_type": "markdown",
   "metadata": {}
  },
  {
   "cell_type": "code",
   "execution_count": 37,
   "metadata": {
    "tags": []
   },
   "outputs": [
    {
     "output_type": "stream",
     "name": "stdout",
     "text": "[&#39;P745DPK&#39;, &#39;P123JHG&#39;]\n"
    }
   ],
   "source": [
    "placas=['P745DPK', 'P123JHG', 'L456RFG', 'PP456RF7']\n",
    "\n",
    "r = re.compile('[P][\\d][\\d][\\d][a-zA-Z][a-zA-Z][a-zA-Z]')\n",
    "placas_result = list(filter(r.match, placas))\n",
    "\n",
    "print(placas_result)"
   ]
  },
  {
   "source": [
    "2. Genere una expresión regular que valide si un archivo es de tipo .pdf o jpg.\n",
    "    \n",
    "    a. Ejemplo1.pdf, prueba2.PDF, respuestas_del_examen.jpg, amor.JPG"
   ],
   "cell_type": "markdown",
   "metadata": {}
  },
  {
   "cell_type": "code",
   "execution_count": 38,
   "metadata": {
    "tags": []
   },
   "outputs": [
    {
     "output_type": "stream",
     "name": "stdout",
     "text": "[&#39;foto.jpg&#39;, &#39;tarea.pdf&#39;]\n"
    }
   ],
   "source": [
    "archivos=['foto.jpg', 'tarea.pdf', 'imagen.png', 'documentopdf']\n",
    "\n",
    "r = re.compile('[\\w]+[\\.](pdf|jpg)')\n",
    "archivos_result = list(filter(r.match, archivos))\n",
    "\n",
    "print(archivos_result)"
   ]
  },
  {
   "source": [
    "3. Genere una expresión regular para validar contraseñas de correo. Una\n",
    "contraseña de correo debe contener por lo menos 8 caracteres, una letra\n",
    "mayúscula y un carácter especial.\n"
   ],
   "cell_type": "markdown",
   "metadata": {}
  },
  {
   "cell_type": "code",
   "execution_count": 39,
   "metadata": {
    "tags": []
   },
   "outputs": [
    {
     "output_type": "stream",
     "name": "stdout",
     "text": "[&#39;asG47uh*&amp;&#39;, &#39;&amp;hyLdfr49&#39;, &#39;oPer56.0&#39;, &#39;oer56.0o&amp;U&#39;]\n"
    }
   ],
   "source": [
    "contrasenas=['asG47uh*&', 'jlKujmkl', '&hyLdfr49', 'oPer56.0', 'oer56.0o&U']\n",
    "\n",
    "r = re.compile('^(?=.*[A-Z])(?=.*\\d)(?=.*[\\W])[\\w\\W]{8,}$')\n",
    "pass_result = list(filter(r.match, contrasenas))\n",
    "\n",
    "print(pass_result)"
   ]
  },
  {
   "source": [
    "4. Cree una expresión regular para validar un numero de carnet de la Universidad\n",
    "Galileo, por ejemplo 19002324 donde los primeros dos dígitos representan el\n",
    "año en el que el alumno se inscribió los cuales pueden variar desde el 01 (año\n",
    "2001) hasta el 30 (año 2030). Los siguientes dos dígitos son cero (00) los cuales van por default y los últimos cuatro dígitos son un número que va desde el 1110\n",
    "hasta el 8970. Para dar su respuesta utilice la notación de expresiones\n",
    "regulares."
   ],
   "cell_type": "markdown",
   "metadata": {}
  },
  {
   "cell_type": "code",
   "execution_count": 40,
   "metadata": {
    "tags": []
   },
   "outputs": [
    {
     "output_type": "stream",
     "name": "stdout",
     "text": "[&#39;05001111&#39;, &#39;23001111&#39;]\n"
    }
   ],
   "source": [
    "carnets=['05001111', '67001111', '23001111', '25081111']\n",
    "\n",
    "r = re.compile('((0[1-9])|((1|2)[0-9])|(30))00[1110-8970]')\n",
    "carnets_result = list(filter(r.match, carnets))\n",
    "\n",
    "print(carnets_result)"
   ]
  },
  {
   "source": [
    "5. Cree una expresión regular que encuentre todas las palabras de la primera línea, pero ninguna de la segunda.\n",
    "\n",
    "    a. pit, spot, spate, slap two, respite\n",
    "\n",
    "    b. pt,Pot,peat,part"
   ],
   "cell_type": "markdown",
   "metadata": {}
  },
  {
   "cell_type": "code",
   "execution_count": 41,
   "metadata": {
    "tags": []
   },
   "outputs": [
    {
     "output_type": "stream",
     "name": "stdout",
     "text": "[&#39;pit&#39;, &#39;spot&#39;, &#39;slap two&#39;, &#39;respite&#39;]\n"
    }
   ],
   "source": [
    "palabras=['pit', 'spot', 'slap two', 'respite',\n",
    "          'pt', 'Pot', 'peat', 'part']\n",
    "\n",
    "r = re.compile('(s?(p|l)(a|i|o)(t|p)e?)|(r)[\\w]')\n",
    "palabras_result = list(filter(r.match, palabras))\n",
    "\n",
    "print(palabras_result)"
   ]
  },
  {
   "source": [
    "6. Cree una expresión regular para obtener los números telefónicos de Guatemala.\n",
    "Estos pueden contener al inicio +502 o 502, pueden estar separados por un espacio en blanco o un guión o juntos. Notar que los números telefónicos pueden empezar únicamente con 4,5,6 o 2.\n",
    "\n",
    "    a. +50254821151, 4210-7640, 52018150, 2434 6854, 11234569, 50211234578"
   ],
   "cell_type": "markdown",
   "metadata": {}
  },
  {
   "cell_type": "code",
   "execution_count": 42,
   "metadata": {
    "tags": []
   },
   "outputs": [
    {
     "output_type": "stream",
     "name": "stdout",
     "text": "[&#39;+50254821151&#39;]\n"
    }
   ],
   "source": [
    "numeros=['+50254821151', '4210-7640', '52018150', '2434 6854', '11234569', '50211234578']\n",
    "\n",
    "# suponiendo que pueden comenzar solo con +502 o 502 (no de otra manera):\n",
    "r = re.compile('\\+?502( |-)?(2|4|5|6)')\n",
    "numeros_result = list(filter(r.match, numeros))\n",
    "\n",
    "print(numeros_result)"
   ]
  },
  {
   "source": [
    "7. Genere una expresión regular que sea capaz de obtener correos de la UFM."
   ],
   "cell_type": "markdown",
   "metadata": {}
  },
  {
   "cell_type": "code",
   "execution_count": 43,
   "metadata": {
    "tags": []
   },
   "outputs": [
    {
     "output_type": "stream",
     "name": "stdout",
     "text": "[&#39;lindseydelaroca@ufm.edu&#39;, &#39;josejosue@ufm.edu&#39;]\n"
    }
   ],
   "source": [
    "\n",
    "emails = ['lindseydelaroca@ufm.edu', \n",
    "          'delaroca.estrada21@gmail.com', \n",
    "          'josejosue@ufm.edu',\n",
    "          'lindseydelaroca@ufmedu']\n",
    "\n",
    "r = re.compile('[\\w]+[\\.]?[\\w]+\\@(ufm)[\\.](edu)')\n",
    "emails_result = list(filter(r.match, emails))\n",
    "\n",
    "print(emails_result)"
   ]
  },
  {
   "source": [
    "8. En el mundo distópico de Eurasia, Big Brother le asigna un identificador único a cada ciudadano. Genere una expresión regular que valide las identificaciones.\n",
    "Composición del id:\n",
    "\n",
    "a. El id inicia con 0 a 3 letras minúsculas (puede tener 0 letras minúsculas hasta tres letras minúsculas)\n",
    "\n",
    "b. Luego es seguido por una cadena de dígitos que puede ser de 2 a 9\n",
    "dígitos respectivamente.\n",
    "\n",
    "c. Inmediatamente después de la cadena de dígitos, se encuentra por lo\n",
    "menos tres letras mayúsculas.\n",
    "\n",
    "    d. Ej: abc012333ABCDEEEE"
   ],
   "cell_type": "markdown",
   "metadata": {}
  },
  {
   "cell_type": "code",
   "execution_count": 44,
   "metadata": {
    "tags": []
   },
   "outputs": [
    {
     "output_type": "stream",
     "name": "stdout",
     "text": "[&#39;a23RTY&#39;, &#39;abc012333ABCDEEEE&#39;, &#39;56790EIAOS&#39;]\n"
    }
   ],
   "source": [
    "idEurasia = ['a23RTY', 'abc012333ABCDEEEE', '56790EIAOS', 'aase7OP', 'ody78IO']\n",
    "\n",
    "r = re.compile('^[a-z]?[a-z]?[a-z]?[\\d][\\d][\\d]?[\\d]?[\\d]?[\\d]?[\\d]?[\\d]?[\\d]?[A-Z][A-Z][A-Z]+$')\n",
    "idEurasia_result = list(filter(r.match, idEurasia))\n",
    "\n",
    "print(idEurasia_result)"
   ]
  }
 ]
}