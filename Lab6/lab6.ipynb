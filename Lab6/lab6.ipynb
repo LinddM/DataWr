{
 "metadata": {
  "language_info": {
   "codemirror_mode": {
    "name": "ipython",
    "version": 3
   },
   "file_extension": ".py",
   "mimetype": "text/x-python",
   "name": "python",
   "nbconvert_exporter": "python",
   "pygments_lexer": "ipython3",
   "version": 3
  },
  "orig_nbformat": 2
 },
 "nbformat": 4,
 "nbformat_minor": 2,
 "cells": [
  {
   "source": [
    "# Laboratorio #6: Regex"
   ],
   "cell_type": "markdown",
   "metadata": {}
  },
  {
   "source": [
    "\n",
    "### Preguntas"
   ],
   "cell_type": "markdown",
   "metadata": {}
  },
  {
   "source": [
    "1. Genere una expresión regular que sea capaz de detectar las placas de un\n",
    "vehículo particular guatemalteco.\n"
   ],
   "cell_type": "markdown",
   "metadata": {}
  },
  {
   "source": [
    "2. Genere una expresión regular que valide si un archivo es de tipo .pdf o jpg.\n",
    "    \n",
    "    a. Ejemplo1.pdf, prueba2.PDF, respuestas_del_examen.jpg, amor.JPG"
   ],
   "cell_type": "markdown",
   "metadata": {}
  },
  {
   "source": [
    "3. Genere una expresión regular para validar contraseñas de correo. Una\n",
    "contraseña de correo debe contener por lo menos 8 caracteres, una letra\n",
    "mayúscula y un carácter especial.\n"
   ],
   "cell_type": "markdown",
   "metadata": {}
  },
  {
   "source": [
    "4. Cree una expresión regular para validar un numero de carnet de la Universidad\n",
    "Galileo, por ejemplo 19002324 donde los primeros dos dígitos representan el\n",
    "año en el que el alumno se inscribió los cuales pueden variar desde el 01 (año\n",
    "2001) hasta el 30 (año 2030). Los siguientes dos dígitos son cero (00) los cuales van por default y los últimos cuatro dígitos son un número que va desde el 1110\n",
    "hasta el 8970. Para dar su respuesta utilice la notación de expresiones\n",
    "regulares."
   ],
   "cell_type": "markdown",
   "metadata": {}
  },
  {
   "source": [
    "5. Cree una expresión regular que encuentre todas las palabras de la primera línea, pero ninguna de la segunda.\n",
    "\n",
    "    a. pit, spot, spate, slap two, respite\n",
    "\n",
    "    b. pt,Pot,peat,part"
   ],
   "cell_type": "markdown",
   "metadata": {}
  },
  {
   "source": [
    "6. Cree una expresión regular para obtener los números telefónicos de Guatemala.\n",
    "Estos pueden contener al inicio +502 o 502, pueden estar separados por un espacio en blanco o un guión o juntos. Notar que los números telefónicos pueden empezar únicamente con 4,5,6 o 2.\n",
    "\n",
    "    a. +50254821151, 4210-7640, 52018150, 2434 6854, 11234569, 50211234578"
   ],
   "cell_type": "markdown",
   "metadata": {}
  },
  {
   "source": [
    "7. Genere una expresión regular que sea capaz de obtener correos de la UFM."
   ],
   "cell_type": "markdown",
   "metadata": {}
  },
  {
   "source": [
    "8. En el mundo distópico de Eurasia, Big Brother le asigna un identificador único a cada ciudadano. Genere una expresión regular que valide las identificaciones.\n",
    "Composición del id:\n",
    "\n",
    "a. El id inicia con 0 a 3 letras minúsculas (puede tener 0 letras minúsculas hasta tres letras minúsculas)\n",
    "\n",
    "b. Luego es seguido por una cadena de dígitos que puede ser de 2 a 9\n",
    "dígitos respectivamente.\n",
    "\n",
    "c. Inmediatamente después de la cadena de dígitos, se encuentra por lo\n",
    "menos tres letras mayúsculas.\n",
    "\n",
    "    d. Ej: abc012333ABCDEEEE"
   ],
   "cell_type": "markdown",
   "metadata": {}
  }
 ]
}