{
 "metadata": {
  "language_info": {
   "codemirror_mode": {
    "name": "ipython",
    "version": 3
   },
   "file_extension": ".py",
   "mimetype": "text/x-python",
   "name": "python",
   "nbconvert_exporter": "python",
   "pygments_lexer": "ipython3",
   "version": 3
  },
  "orig_nbformat": 2
 },
 "nbformat": 4,
 "nbformat_minor": 2,
 "cells": [
  {
   "source": [
    "# Laboratorio #8 - Missing Data and Feature Engineering"
   ],
   "cell_type": "markdown",
   "metadata": {}
  },
  {
   "source": [
    "El laboratorio deberá de ser entregado por medio de MiU a más tardar el Domingo, 15 de\n",
    "Noviembre a las 11:59pm. No estaremos aceptando entregas tarde ni por correo electrónico. La\n",
    "entrega será el link al documento en GitHub, en formato markdown o PDF, estén trabajando en\n",
    "R o en Python."
   ],
   "cell_type": "markdown",
   "metadata": {}
  },
  {
   "source": [
    "### Parte 1: (70%)\n",
    "La tabla “titanic_MD.csv” contiene missing values en varias columnas. Utilizando R o Python,\n",
    "realice lo siguiente:\n"
   ],
   "cell_type": "markdown",
   "metadata": {}
  },
  {
   "source": [
    "1. Reporte detallado de missing data para todas las columnas. (5%)"
   ],
   "cell_type": "markdown",
   "metadata": {}
  },
  {
   "source": [
    "2. Para cada columna especificar que tipo de modelo se utilizará y qué valores se le darán\n",
    "a todos los missing values. (Ej. Imputación sectorizada por la moda, bins, y cualquier\n",
    "otro método visto anteriormente). (10%)"
   ],
   "cell_type": "markdown",
   "metadata": {}
  },
  {
   "source": [
    "3. Reporte de qué filas están completas (5%)\n"
   ],
   "cell_type": "markdown",
   "metadata": {}
  },
  {
   "source": [
    "4. Utilizar los siguientes métodos para cada columna que contiene missing values: (50%)\n"
   ],
   "cell_type": "markdown",
   "metadata": {}
  },
  {
   "source": [
    "a. Pairwise deletion"
   ],
   "cell_type": "markdown",
   "metadata": {}
  },
  {
   "source": [
    "b. Imputación general (media, moda y mediana)"
   ],
   "cell_type": "markdown",
   "metadata": {}
  },
  {
   "source": [
    "c. Imputación sectorizada"
   ],
   "cell_type": "markdown",
   "metadata": {}
  },
  {
   "source": [
    "d. Modelo de regresión lineal simple"
   ],
   "cell_type": "markdown",
   "metadata": {}
  },
  {
   "source": [
    "e. Eliminación de outliers: Standard deviation approach"
   ],
   "cell_type": "markdown",
   "metadata": {}
  },
  {
   "source": [
    "f. Eliminación de outliers: Percentile approach"
   ],
   "cell_type": "markdown",
   "metadata": {}
  },
  {
   "source": [
    "5. Al comparar los métodos del inciso 4 contra “titanic.csv”, ¿Qué método (para cada\n",
    "columna) se acerca más a la realidad y por qué? (20%)"
   ],
   "cell_type": "markdown",
   "metadata": {}
  },
  {
   "source": [
    "6. Conclusiones (10%)"
   ],
   "cell_type": "markdown",
   "metadata": {}
  },
  {
   "source": [
    "### Parte 2: (30%)\n",
    "Utilizando la misma tabla de “titanic_MD.csv” en R o en Python realice lo siguiente:"
   ],
   "cell_type": "markdown",
   "metadata": {}
  },
  {
   "source": [
    "1. Luego del pre-procesamiento de la data con Missing Values, normalice las columnas\n",
    "numéricas por los métodos: (50%)\n"
   ],
   "cell_type": "markdown",
   "metadata": {}
  },
  {
   "source": [
    "a. Standarization"
   ],
   "cell_type": "markdown",
   "metadata": {}
  },
  {
   "source": [
    "b. MinMaxScaling"
   ],
   "cell_type": "markdown",
   "metadata": {}
  },
  {
   "source": [
    "c. MaxAbsScaler\n"
   ],
   "cell_type": "markdown",
   "metadata": {}
  },
  {
   "source": [
    "2. Compare los estadísticos que considere más importantes para su conclusión y compare\n",
    "contra la data completa de “titanic.csv” (deberán de normalizar también). (50%)"
   ],
   "cell_type": "markdown",
   "metadata": {}
  }
 ]
}